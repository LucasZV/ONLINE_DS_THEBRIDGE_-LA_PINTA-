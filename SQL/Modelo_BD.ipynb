{
 "cells": [
  {
   "cell_type": "code",
   "execution_count": 1,
   "metadata": {},
   "outputs": [],
   "source": [
    "import sqlite3"
   ]
  },
  {
   "cell_type": "code",
   "execution_count": 2,
   "metadata": {},
   "outputs": [],
   "source": [
    "connection = sqlite3.connect(\"Modelo_BBDDs\") #---> Al ser una base de datos que no existe, la crea.\n",
    "cursor_gestion = connection.cursor()"
   ]
  },
  {
   "cell_type": "code",
   "execution_count": 3,
   "metadata": {},
   "outputs": [
    {
     "data": {
      "text/plain": [
       "<sqlite3.Cursor at 0x194841fb4c0>"
      ]
     },
     "execution_count": 3,
     "metadata": {},
     "output_type": "execute_result"
    }
   ],
   "source": [
    "query_create = '''\n",
    "CREATE TABLE Proveedor (\n",
    "Nombre       TEXT NOT NULL ,\n",
    "Dirección   TEXT NOT NULL,\n",
    "Ciudad     TEXT NOT NULL,\n",
    "Provincia   TEXT NOT NULL,\n",
    "Código_Proveedor    INT UNIQUE PRIMARY KEY\n",
    ")\n",
    "'''\n",
    "cursor_gestion.execute(query_create)"
   ]
  },
  {
   "cell_type": "code",
   "execution_count": 4,
   "metadata": {},
   "outputs": [
    {
     "data": {
      "text/plain": [
       "<sqlite3.Cursor at 0x194841fb4c0>"
      ]
     },
     "execution_count": 4,
     "metadata": {},
     "output_type": "execute_result"
    }
   ],
   "source": [
    "query_create = '''\n",
    "CREATE TABLE Artículo (\n",
    "Artículo_id      INT NOT NULL UNIQUE PRIMARY KEY,\n",
    "Nombre   TEXT NOT NULL,\n",
    "Color     TEXT NOT NULL,\n",
    "Precio   FLOAT NOT NULL,\n",
    "Categoría    TEXT NOT NULL,\n",
    "FOREIGN KEY (Categoría) REFERENCES Categoría(Nombre) \n",
    ")\n",
    "'''\n",
    "cursor_gestion.execute(query_create)"
   ]
  },
  {
   "cell_type": "code",
   "execution_count": 5,
   "metadata": {},
   "outputs": [],
   "source": [
    "query_create= '''\n",
    "CREATE TABLE Pedido (\n",
    "    Pedido_id INT NOT NULL UNIQUE PRIMARY KEY,\n",
    "    Fecha TEXT NOT NULL,\n",
    "    Artículo_id INT NOT NULL, \n",
    "    Cantidad FLOAT NOT NULL,\n",
    "    Código_Proveedor INT NOT NULL, \n",
    "    FOREIGN KEY (Artículo_id) REFERENCES Artículo(Artículo_id),\n",
    "    FOREIGN KEY (Código_Proveedor) REFERENCES Proveedor(Código_Proveedor)\n",
    ");\n",
    "'''"
   ]
  },
  {
   "cell_type": "code",
   "execution_count": 6,
   "metadata": {},
   "outputs": [
    {
     "data": {
      "text/plain": [
       "<sqlite3.Cursor at 0x194841fb4c0>"
      ]
     },
     "execution_count": 6,
     "metadata": {},
     "output_type": "execute_result"
    }
   ],
   "source": [
    "cursor_gestion.execute(query_create)"
   ]
  },
  {
   "cell_type": "code",
   "execution_count": 7,
   "metadata": {},
   "outputs": [
    {
     "data": {
      "text/plain": [
       "<sqlite3.Cursor at 0x194841fb4c0>"
      ]
     },
     "execution_count": 7,
     "metadata": {},
     "output_type": "execute_result"
    }
   ],
   "source": [
    "query_create = '''\n",
    "CREATE TABLE Categoría (\n",
    "    Nombre TEXT NOT NULL UNIQUE,\n",
    "    Categoría_id INT NOT NULL UNIQUE PRIMARY KEY\n",
    ") \n",
    "'''\n",
    "cursor_gestion.execute(query_create)"
   ]
  },
  {
   "cell_type": "code",
   "execution_count": 8,
   "metadata": {},
   "outputs": [],
   "source": [
    "connection.commit()\n",
    "connection.close()"
   ]
  },
  {
   "cell_type": "code",
   "execution_count": null,
   "metadata": {},
   "outputs": [],
   "source": []
  }
 ],
 "metadata": {
  "kernelspec": {
   "display_name": "Python 3",
   "language": "python",
   "name": "python3"
  },
  "language_info": {
   "codemirror_mode": {
    "name": "ipython",
    "version": 3
   },
   "file_extension": ".py",
   "mimetype": "text/x-python",
   "name": "python",
   "nbconvert_exporter": "python",
   "pygments_lexer": "ipython3",
   "version": "3.10.11"
  }
 },
 "nbformat": 4,
 "nbformat_minor": 2
}
