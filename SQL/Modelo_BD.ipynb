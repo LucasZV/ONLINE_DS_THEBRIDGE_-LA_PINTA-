{
 "cells": [
  {
   "cell_type": "code",
   "execution_count": null,
   "metadata": {},
   "outputs": [],
   "source": []
  },
  {
   "cell_type": "code",
   "execution_count": null,
   "metadata": {},
   "outputs": [],
   "source": []
  },
  {
   "cell_type": "code",
   "execution_count": 1,
   "metadata": {},
   "outputs": [],
   "source": [
    "import sqlite3\n",
    "import pandas as pd"
   ]
  },
  {
   "cell_type": "code",
   "execution_count": 2,
   "metadata": {},
   "outputs": [],
   "source": [
    "# Abrimos la base de datos, que al no existir la crea y creamos nuestro cursor\n",
    "connection = sqlite3.connect(\"Modelo_BBDD.db\")\n",
    "cursor_gestion = connection.cursor()"
   ]
  },
  {
   "cell_type": "code",
   "execution_count": 3,
   "metadata": {},
   "outputs": [
    {
     "data": {
      "text/plain": [
       "<sqlite3.Cursor at 0x21870e11f40>"
      ]
     },
     "execution_count": 3,
     "metadata": {},
     "output_type": "execute_result"
    }
   ],
   "source": [
    "# Creamos la tabla proveedor, con la clave primaria en Codigo_proveedor\n",
    "query_create = '''\n",
    "CREATE TABLE Proveedor (\n",
    "Nombre       TEXT NOT NULL ,\n",
    "Dirección   TEXT NOT NULL,\n",
    "Ciudad     TEXT NOT NULL,\n",
    "Provincia   TEXT NOT NULL,\n",
    "Código_Proveedor    INT UNIQUE PRIMARY KEY\n",
    ")\n",
    "'''\n",
    "cursor_gestion.execute(query_create)"
   ]
  },
  {
   "cell_type": "markdown",
   "metadata": {},
   "source": []
  },
  {
   "cell_type": "code",
   "execution_count": 4,
   "metadata": {},
   "outputs": [
    {
     "data": {
      "text/plain": [
       "<sqlite3.Cursor at 0x21870e11f40>"
      ]
     },
     "execution_count": 4,
     "metadata": {},
     "output_type": "execute_result"
    }
   ],
   "source": [
    "# Creamos la tabla Articulo, con la clave primaria en Articulo_id y Categoria como clave foranea Categoria\n",
    "\n",
    "query_create = '''\n",
    "CREATE TABLE Artículo (\n",
    "Artículo_id      INT NOT NULL UNIQUE PRIMARY KEY,\n",
    "Nombre   TEXT NOT NULL,\n",
    "Color     TEXT NOT NULL,\n",
    "Precio   FLOAT NOT NULL,\n",
    "Categoría    TEXT NOT NULL,\n",
    "FOREIGN KEY (Categoría) REFERENCES Categoría(Nombre) \n",
    ")\n",
    "'''\n",
    "cursor_gestion.execute(query_create)"
   ]
  },
  {
   "cell_type": "code",
   "execution_count": 5,
   "metadata": {},
   "outputs": [
    {
     "data": {
      "text/plain": [
       "<sqlite3.Cursor at 0x21870e11f40>"
      ]
     },
     "execution_count": 5,
     "metadata": {},
     "output_type": "execute_result"
    }
   ],
   "source": [
    "# Creamos la tabla Pedido, con la clave primaria en Pedido_id\n",
    "# Articulo_id con CF  Articulo_id de la tabla Articulo y Codigo_proveedor con CF en Codigo_proveedor en la tabla Proveedor)\n",
    "\n",
    "query_create= '''\n",
    "CREATE TABLE Pedido (\n",
    "Pedido_id   INT NOT NULL UNIQUE PRIMARY KEY,\n",
    "Fecha   DATE NOT NULL,\n",
    "Artículo_id  INT NOT NULL, \n",
    "Cantidad FLOAT  NOT NULL,\n",
    "Código_Proveedor    INT NOT NULL, \n",
    "FOREIGN KEY (Artículo_id) REFERENCES Artículo(Artículo_id),\n",
    "FOREIGN KEY (Código_Proveedor) REFERENCES Proveedor(Código_Proveedor)\n",
    ")\n",
    "'''\n",
    "cursor_gestion.execute(query_create)"
   ]
  },
  {
   "cell_type": "code",
   "execution_count": 6,
   "metadata": {},
   "outputs": [
    {
     "data": {
      "text/plain": [
       "<sqlite3.Cursor at 0x21870e11f40>"
      ]
     },
     "execution_count": 6,
     "metadata": {},
     "output_type": "execute_result"
    }
   ],
   "source": [
    "# Creamos la tabla Categoria, con la clave primaria en Pedido_id\n",
    "query_create = '''\n",
    "CREATE TABLE Categoría (\n",
    "Nombre TEXT NOT NULL UNIQUE,\n",
    "Categoría_id INT NOT NULL UNIQUE PRIMARY KEY\n",
    ") \n",
    "'''\n",
    "cursor_gestion.execute(query_create)"
   ]
  },
  {
   "cell_type": "code",
   "execution_count": 7,
   "metadata": {},
   "outputs": [],
   "source": [
    "# Actualizamos y confirmamos todos los cambios\n",
    "connection.commit()"
   ]
  },
  {
   "cell_type": "code",
   "execution_count": 8,
   "metadata": {},
   "outputs": [
    {
     "data": {
      "text/html": [
       "<div>\n",
       "<style scoped>\n",
       "    .dataframe tbody tr th:only-of-type {\n",
       "        vertical-align: middle;\n",
       "    }\n",
       "\n",
       "    .dataframe tbody tr th {\n",
       "        vertical-align: top;\n",
       "    }\n",
       "\n",
       "    .dataframe thead th {\n",
       "        text-align: right;\n",
       "    }\n",
       "</style>\n",
       "<table border=\"1\" class=\"dataframe\">\n",
       "  <thead>\n",
       "    <tr style=\"text-align: right;\">\n",
       "      <th></th>\n",
       "      <th>type</th>\n",
       "      <th>name</th>\n",
       "      <th>tbl_name</th>\n",
       "      <th>rootpage</th>\n",
       "      <th>sql</th>\n",
       "    </tr>\n",
       "  </thead>\n",
       "  <tbody>\n",
       "    <tr>\n",
       "      <th>0</th>\n",
       "      <td>table</td>\n",
       "      <td>Proveedor</td>\n",
       "      <td>Proveedor</td>\n",
       "      <td>2</td>\n",
       "      <td>CREATE TABLE Proveedor (\\nNombre       TEXT NO...</td>\n",
       "    </tr>\n",
       "    <tr>\n",
       "      <th>1</th>\n",
       "      <td>index</td>\n",
       "      <td>sqlite_autoindex_Proveedor_1</td>\n",
       "      <td>Proveedor</td>\n",
       "      <td>3</td>\n",
       "      <td>None</td>\n",
       "    </tr>\n",
       "    <tr>\n",
       "      <th>2</th>\n",
       "      <td>table</td>\n",
       "      <td>Artículo</td>\n",
       "      <td>Artículo</td>\n",
       "      <td>4</td>\n",
       "      <td>CREATE TABLE Artículo (\\nArtículo_id      INT ...</td>\n",
       "    </tr>\n",
       "    <tr>\n",
       "      <th>3</th>\n",
       "      <td>index</td>\n",
       "      <td>sqlite_autoindex_Artículo_1</td>\n",
       "      <td>Artículo</td>\n",
       "      <td>5</td>\n",
       "      <td>None</td>\n",
       "    </tr>\n",
       "    <tr>\n",
       "      <th>4</th>\n",
       "      <td>table</td>\n",
       "      <td>Pedido</td>\n",
       "      <td>Pedido</td>\n",
       "      <td>6</td>\n",
       "      <td>CREATE TABLE Pedido (\\nPedido_id   INT NOT NUL...</td>\n",
       "    </tr>\n",
       "    <tr>\n",
       "      <th>5</th>\n",
       "      <td>index</td>\n",
       "      <td>sqlite_autoindex_Pedido_1</td>\n",
       "      <td>Pedido</td>\n",
       "      <td>7</td>\n",
       "      <td>None</td>\n",
       "    </tr>\n",
       "    <tr>\n",
       "      <th>6</th>\n",
       "      <td>table</td>\n",
       "      <td>Categoría</td>\n",
       "      <td>Categoría</td>\n",
       "      <td>8</td>\n",
       "      <td>CREATE TABLE Categoría (\\nNombre TEXT NOT NULL...</td>\n",
       "    </tr>\n",
       "    <tr>\n",
       "      <th>7</th>\n",
       "      <td>index</td>\n",
       "      <td>sqlite_autoindex_Categoría_1</td>\n",
       "      <td>Categoría</td>\n",
       "      <td>9</td>\n",
       "      <td>None</td>\n",
       "    </tr>\n",
       "    <tr>\n",
       "      <th>8</th>\n",
       "      <td>index</td>\n",
       "      <td>sqlite_autoindex_Categoría_2</td>\n",
       "      <td>Categoría</td>\n",
       "      <td>10</td>\n",
       "      <td>None</td>\n",
       "    </tr>\n",
       "  </tbody>\n",
       "</table>\n",
       "</div>"
      ],
      "text/plain": [
       "    type                          name   tbl_name  rootpage  \\\n",
       "0  table                     Proveedor  Proveedor         2   \n",
       "1  index  sqlite_autoindex_Proveedor_1  Proveedor         3   \n",
       "2  table                      Artículo   Artículo         4   \n",
       "3  index   sqlite_autoindex_Artículo_1   Artículo         5   \n",
       "4  table                        Pedido     Pedido         6   \n",
       "5  index     sqlite_autoindex_Pedido_1     Pedido         7   \n",
       "6  table                     Categoría  Categoría         8   \n",
       "7  index  sqlite_autoindex_Categoría_1  Categoría         9   \n",
       "8  index  sqlite_autoindex_Categoría_2  Categoría        10   \n",
       "\n",
       "                                                 sql  \n",
       "0  CREATE TABLE Proveedor (\\nNombre       TEXT NO...  \n",
       "1                                               None  \n",
       "2  CREATE TABLE Artículo (\\nArtículo_id      INT ...  \n",
       "3                                               None  \n",
       "4  CREATE TABLE Pedido (\\nPedido_id   INT NOT NUL...  \n",
       "5                                               None  \n",
       "6  CREATE TABLE Categoría (\\nNombre TEXT NOT NULL...  \n",
       "7                                               None  \n",
       "8                                               None  "
      ]
     },
     "execution_count": 8,
     "metadata": {},
     "output_type": "execute_result"
    }
   ],
   "source": [
    "# Verificamos si están creadas las tablas y los indices de las claves\n",
    "query=\"\"\"\n",
    "SELECT *\n",
    "FROM sqlite_master\n",
    "\"\"\"\n",
    "pd.read_sql(query,connection)"
   ]
  },
  {
   "cell_type": "code",
   "execution_count": 9,
   "metadata": {},
   "outputs": [
    {
     "data": {
      "text/html": [
       "<div>\n",
       "<style scoped>\n",
       "    .dataframe tbody tr th:only-of-type {\n",
       "        vertical-align: middle;\n",
       "    }\n",
       "\n",
       "    .dataframe tbody tr th {\n",
       "        vertical-align: top;\n",
       "    }\n",
       "\n",
       "    .dataframe thead th {\n",
       "        text-align: right;\n",
       "    }\n",
       "</style>\n",
       "<table border=\"1\" class=\"dataframe\">\n",
       "  <thead>\n",
       "    <tr style=\"text-align: right;\">\n",
       "      <th></th>\n",
       "      <th>Nombre</th>\n",
       "      <th>Dirección</th>\n",
       "      <th>Ciudad</th>\n",
       "      <th>Provincia</th>\n",
       "      <th>Código_Proveedor</th>\n",
       "    </tr>\n",
       "  </thead>\n",
       "  <tbody>\n",
       "  </tbody>\n",
       "</table>\n",
       "</div>"
      ],
      "text/plain": [
       "Empty DataFrame\n",
       "Columns: [Nombre, Dirección, Ciudad, Provincia, Código_Proveedor]\n",
       "Index: []"
      ]
     },
     "execution_count": 9,
     "metadata": {},
     "output_type": "execute_result"
    }
   ],
   "source": [
    "# Creamos valores para rellenar las tablas\n",
    "pd.read_sql(\"SELECT * FROM Proveedor\",connection)\n"
   ]
  },
  {
   "cell_type": "code",
   "execution_count": 10,
   "metadata": {},
   "outputs": [
    {
     "data": {
      "text/plain": [
       "<sqlite3.Cursor at 0x21870e11f40>"
      ]
     },
     "execution_count": 10,
     "metadata": {},
     "output_type": "execute_result"
    }
   ],
   "source": [
    "cursor_gestion.execute(\"INSERT INTO Proveedor (Nombre, Dirección, Ciudad, Provincia, Código_Proveedor) VALUES \"\n",
    "               \"('ElectroSuministros', 'Calle Principal 123', 'Salamanca', 'Salamanca', '12345'), \"\n",
    "               \"('TechExpress', 'Avenida Central 456', 'Madrid', 'Madrid', '28079'), \"\n",
    "               \"('GadgetWorld', 'Plaza Mayor 789', 'Vigo', 'Pontevedra', '11111'), \"\n",
    "               \"('FutureTech', 'Calle Tranviarios 456', 'Cornella', 'Cataluña', '22222'), \"\n",
    "               \"('MegaElectronics', 'Paseo Peatonal 789', 'Alcorcón', 'Madrid', '28007');\")"
   ]
  },
  {
   "cell_type": "code",
   "execution_count": 11,
   "metadata": {},
   "outputs": [
    {
     "data": {
      "text/plain": [
       "<sqlite3.Cursor at 0x21870e11f40>"
      ]
     },
     "execution_count": 11,
     "metadata": {},
     "output_type": "execute_result"
    }
   ],
   "source": [
    "cursor_gestion.execute(\"INSERT INTO Artículo (Artículo_id, Nombre, Color, Precio, Categoría) VALUES \"\n",
    "               \"('1', 'Lavadora Ultra', 'Blanco', '399.99', 'Electrodomésticos'), \"\n",
    "               \"('2', 'Smart TV 4K', 'Negro', '799.99', 'Electrónica'), \"\n",
    "               \"('3', 'Lámpara Deluxe', 'Plateado', '89.99', 'Hogar'), \"\n",
    "               \"('4', 'Tablet Pro', 'Gris', '299.99', 'Electrónica'), \"\n",
    "               \"('5', 'Licuadora PowerBlend', 'Rojo', '49.99', 'Electrodomésticos');\")"
   ]
  },
  {
   "cell_type": "code",
   "execution_count": 12,
   "metadata": {},
   "outputs": [
    {
     "data": {
      "text/plain": [
       "<sqlite3.Cursor at 0x21870e11f40>"
      ]
     },
     "execution_count": 12,
     "metadata": {},
     "output_type": "execute_result"
    }
   ],
   "source": [
    "cursor_gestion.execute(\"INSERT INTO Pedido (Pedido_id, Fecha, Artículo_id, Cantidad, Código_Proveedor) VALUES \"\n",
    "               \"('101', '2023-01-01', '1', '25', '12345'), \"\n",
    "               \"('102', '2023-02-01', '2', '31', '28079'), \"\n",
    "               \"('103', '2023-03-01', '3', '12', '11111'), \"\n",
    "               \"('104', '2023-04-01', '4', '42', '22222'), \"\n",
    "               \"('105', '2023-05-01', '5', '7', '28007');\")"
   ]
  },
  {
   "cell_type": "code",
   "execution_count": 13,
   "metadata": {},
   "outputs": [
    {
     "data": {
      "text/plain": [
       "<sqlite3.Cursor at 0x21870e11f40>"
      ]
     },
     "execution_count": 13,
     "metadata": {},
     "output_type": "execute_result"
    }
   ],
   "source": [
    "cursor_gestion.execute(\"INSERT INTO Categoría (Nombre, Categoría_id) VALUES \"\n",
    "               \"('Electrónica', '1000'),\"\n",
    "               \"('Electrodomésticos', '2000'),\"\n",
    "               \"('Hogar','3000');\")"
   ]
  },
  {
   "cell_type": "code",
   "execution_count": 14,
   "metadata": {},
   "outputs": [],
   "source": [
    "connection.commit()"
   ]
  },
  {
   "cell_type": "code",
   "execution_count": 15,
   "metadata": {},
   "outputs": [],
   "source": [
    "query=\"\"\"\n",
    "SELECT *\n",
    "FROM Pedido\n",
    "\"\"\""
   ]
  },
  {
   "cell_type": "code",
   "execution_count": 16,
   "metadata": {},
   "outputs": [
    {
     "data": {
      "text/html": [
       "<div>\n",
       "<style scoped>\n",
       "    .dataframe tbody tr th:only-of-type {\n",
       "        vertical-align: middle;\n",
       "    }\n",
       "\n",
       "    .dataframe tbody tr th {\n",
       "        vertical-align: top;\n",
       "    }\n",
       "\n",
       "    .dataframe thead th {\n",
       "        text-align: right;\n",
       "    }\n",
       "</style>\n",
       "<table border=\"1\" class=\"dataframe\">\n",
       "  <thead>\n",
       "    <tr style=\"text-align: right;\">\n",
       "      <th></th>\n",
       "      <th>Pedido_id</th>\n",
       "      <th>Fecha</th>\n",
       "      <th>Artículo_id</th>\n",
       "      <th>Cantidad</th>\n",
       "      <th>Código_Proveedor</th>\n",
       "    </tr>\n",
       "  </thead>\n",
       "  <tbody>\n",
       "    <tr>\n",
       "      <th>0</th>\n",
       "      <td>101</td>\n",
       "      <td>2023-01-01</td>\n",
       "      <td>1</td>\n",
       "      <td>25.0</td>\n",
       "      <td>12345</td>\n",
       "    </tr>\n",
       "    <tr>\n",
       "      <th>1</th>\n",
       "      <td>102</td>\n",
       "      <td>2023-02-01</td>\n",
       "      <td>2</td>\n",
       "      <td>31.0</td>\n",
       "      <td>28079</td>\n",
       "    </tr>\n",
       "    <tr>\n",
       "      <th>2</th>\n",
       "      <td>103</td>\n",
       "      <td>2023-03-01</td>\n",
       "      <td>3</td>\n",
       "      <td>12.0</td>\n",
       "      <td>11111</td>\n",
       "    </tr>\n",
       "    <tr>\n",
       "      <th>3</th>\n",
       "      <td>104</td>\n",
       "      <td>2023-04-01</td>\n",
       "      <td>4</td>\n",
       "      <td>42.0</td>\n",
       "      <td>22222</td>\n",
       "    </tr>\n",
       "    <tr>\n",
       "      <th>4</th>\n",
       "      <td>105</td>\n",
       "      <td>2023-05-01</td>\n",
       "      <td>5</td>\n",
       "      <td>7.0</td>\n",
       "      <td>28007</td>\n",
       "    </tr>\n",
       "  </tbody>\n",
       "</table>\n",
       "</div>"
      ],
      "text/plain": [
       "   Pedido_id       Fecha  Artículo_id  Cantidad  Código_Proveedor\n",
       "0        101  2023-01-01            1      25.0             12345\n",
       "1        102  2023-02-01            2      31.0             28079\n",
       "2        103  2023-03-01            3      12.0             11111\n",
       "3        104  2023-04-01            4      42.0             22222\n",
       "4        105  2023-05-01            5       7.0             28007"
      ]
     },
     "execution_count": 16,
     "metadata": {},
     "output_type": "execute_result"
    }
   ],
   "source": [
    "pd.read_sql(query,connection)"
   ]
  },
  {
   "cell_type": "code",
   "execution_count": 17,
   "metadata": {},
   "outputs": [],
   "source": [
    "connection.close()"
   ]
  }
 ],
 "metadata": {
  "kernelspec": {
   "display_name": "Python 3",
   "language": "python",
   "name": "python3"
  },
  "language_info": {
   "codemirror_mode": {
    "name": "ipython",
    "version": 3
   },
   "file_extension": ".py",
   "mimetype": "text/x-python",
   "name": "python",
   "nbconvert_exporter": "python",
   "pygments_lexer": "ipython3",
   "version": "3.11.6"
  }
 },
 "nbformat": 4,
 "nbformat_minor": 2
}
