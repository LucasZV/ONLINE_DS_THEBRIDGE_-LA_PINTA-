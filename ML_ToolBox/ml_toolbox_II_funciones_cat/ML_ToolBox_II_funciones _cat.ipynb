{
 "cells": [
  {
   "cell_type": "code",
   "execution_count": 1,
   "metadata": {},
   "outputs": [],
   "source": [
    "import pandas as pd\n",
    "from sklearn.feature_selection import mutual_info_classif\n",
    "from sklearn.preprocessing import LabelEncoder\n",
    "import matplotlib.pyplot as plt\n",
    "import numpy as np\n",
    "import seaborn as sns"
   ]
  },
  {
   "cell_type": "code",
   "execution_count": 2,
   "metadata": {},
   "outputs": [],
   "source": [
    "df = pd.read_csv(\"./data/titanic.csv\")"
   ]
  },
  {
   "cell_type": "markdown",
   "metadata": {},
   "source": [
    "#### hacer siempre una copia para que no haga la prueba con numéricas"
   ]
  },
  {
   "cell_type": "code",
   "execution_count": 3,
   "metadata": {},
   "outputs": [],
   "source": [
    "df_t = df.copy()"
   ]
  },
  {
   "cell_type": "code",
   "execution_count": 4,
   "metadata": {},
   "outputs": [
    {
     "data": {
      "text/html": [
       "<div>\n",
       "<style scoped>\n",
       "    .dataframe tbody tr th:only-of-type {\n",
       "        vertical-align: middle;\n",
       "    }\n",
       "\n",
       "    .dataframe tbody tr th {\n",
       "        vertical-align: top;\n",
       "    }\n",
       "\n",
       "    .dataframe thead th {\n",
       "        text-align: right;\n",
       "    }\n",
       "</style>\n",
       "<table border=\"1\" class=\"dataframe\">\n",
       "  <thead>\n",
       "    <tr style=\"text-align: right;\">\n",
       "      <th></th>\n",
       "      <th>sex</th>\n",
       "      <th>age</th>\n",
       "      <th>sibsp</th>\n",
       "      <th>parch</th>\n",
       "      <th>fare</th>\n",
       "      <th>class</th>\n",
       "      <th>who</th>\n",
       "      <th>adult_male</th>\n",
       "      <th>embark_town</th>\n",
       "      <th>alive</th>\n",
       "      <th>alone</th>\n",
       "    </tr>\n",
       "  </thead>\n",
       "  <tbody>\n",
       "    <tr>\n",
       "      <th>0</th>\n",
       "      <td>male</td>\n",
       "      <td>22.0</td>\n",
       "      <td>1</td>\n",
       "      <td>0</td>\n",
       "      <td>7.2500</td>\n",
       "      <td>Third</td>\n",
       "      <td>man</td>\n",
       "      <td>True</td>\n",
       "      <td>Southampton</td>\n",
       "      <td>no</td>\n",
       "      <td>False</td>\n",
       "    </tr>\n",
       "    <tr>\n",
       "      <th>1</th>\n",
       "      <td>female</td>\n",
       "      <td>38.0</td>\n",
       "      <td>1</td>\n",
       "      <td>0</td>\n",
       "      <td>71.2833</td>\n",
       "      <td>First</td>\n",
       "      <td>woman</td>\n",
       "      <td>False</td>\n",
       "      <td>Cherbourg</td>\n",
       "      <td>yes</td>\n",
       "      <td>False</td>\n",
       "    </tr>\n",
       "    <tr>\n",
       "      <th>2</th>\n",
       "      <td>female</td>\n",
       "      <td>26.0</td>\n",
       "      <td>0</td>\n",
       "      <td>0</td>\n",
       "      <td>7.9250</td>\n",
       "      <td>Third</td>\n",
       "      <td>woman</td>\n",
       "      <td>False</td>\n",
       "      <td>Southampton</td>\n",
       "      <td>yes</td>\n",
       "      <td>True</td>\n",
       "    </tr>\n",
       "    <tr>\n",
       "      <th>3</th>\n",
       "      <td>female</td>\n",
       "      <td>35.0</td>\n",
       "      <td>1</td>\n",
       "      <td>0</td>\n",
       "      <td>53.1000</td>\n",
       "      <td>First</td>\n",
       "      <td>woman</td>\n",
       "      <td>False</td>\n",
       "      <td>Southampton</td>\n",
       "      <td>yes</td>\n",
       "      <td>False</td>\n",
       "    </tr>\n",
       "    <tr>\n",
       "      <th>4</th>\n",
       "      <td>male</td>\n",
       "      <td>35.0</td>\n",
       "      <td>0</td>\n",
       "      <td>0</td>\n",
       "      <td>8.0500</td>\n",
       "      <td>Third</td>\n",
       "      <td>man</td>\n",
       "      <td>True</td>\n",
       "      <td>Southampton</td>\n",
       "      <td>no</td>\n",
       "      <td>True</td>\n",
       "    </tr>\n",
       "  </tbody>\n",
       "</table>\n",
       "</div>"
      ],
      "text/plain": [
       "      sex   age  sibsp  parch     fare  class    who  adult_male  embark_town  \\\n",
       "0    male  22.0      1      0   7.2500  Third    man        True  Southampton   \n",
       "1  female  38.0      1      0  71.2833  First  woman       False    Cherbourg   \n",
       "2  female  26.0      0      0   7.9250  Third  woman       False  Southampton   \n",
       "3  female  35.0      1      0  53.1000  First  woman       False  Southampton   \n",
       "4    male  35.0      0      0   8.0500  Third    man        True  Southampton   \n",
       "\n",
       "  alive  alone  \n",
       "0    no  False  \n",
       "1   yes  False  \n",
       "2   yes   True  \n",
       "3   yes  False  \n",
       "4    no   True  "
      ]
     },
     "execution_count": 4,
     "metadata": {},
     "output_type": "execute_result"
    }
   ],
   "source": [
    "df_t.head()"
   ]
  },
  {
   "cell_type": "code",
   "execution_count": 5,
   "metadata": {},
   "outputs": [],
   "source": [
    "target_col = \"alive\""
   ]
  },
  {
   "cell_type": "code",
   "execution_count": 6,
   "metadata": {},
   "outputs": [],
   "source": [
    "\n",
    "\n",
    "def get_features_cat_classification(df, target_col, normalize=False, mi_threshold=0):\n",
    "    \"\"\"\n",
    "    La función get_features_cat_classification realiza una selección de las columnas categóricas de un dataframe en base a su mutual information con respecto a la columna objetivo.\n",
    "   \n",
    "\n",
    "    Argumentos:\n",
    "    - df (DataFrame): DataFrame de entrada.\n",
    "    - target_col (str): Nombre de la columna que se considerará como target para la selección.\n",
    "    - normalize (bool): Indica si se debe normalizar la mutual information. Por defecto, False.\n",
    "    - mi_threshold (float): Umbral de mutual information para la selección. Por defecto, 0.\n",
    "\n",
    "    Devuelve una lista con las columnas categóricas seleccionadas.\n",
    "\n",
    "    \"\"\"\n",
    "\n",
    "    # Comprobar que 'target_col' es una variable categórica del dataframe\n",
    "    if target_col not in df.columns or df[target_col].dtype.name not in ['object', 'category']:\n",
    "        print(f\"Error: '{target_col}' no es una variable categórica en el dataframe.\")\n",
    "        return None\n",
    "    \n",
    "    # Obtener las columnas categóricas\n",
    "    categorical_columns = df.select_dtypes(include=['object', 'category']).columns\n",
    "    \n",
    "    # Verificar que 'mi_threshold' sea un valor float entre 0 y 1; y si 'normalize' es True\n",
    "    if normalize and not (isinstance(mi_threshold, float) and 0 <= mi_threshold <= 1):\n",
    "        print(\"Error: 'mi_threshold' debe ser un valor float entre 0 y 1 cuando normalize es True.\")\n",
    "        return None\n",
    "    \n",
    "    # Convertir las columnas categóricas a valores numéricos\n",
    "    label_encoder = LabelEncoder()\n",
    "    for col in categorical_columns:\n",
    "        df[col] = label_encoder.fit_transform(df[col])\n",
    "    \n",
    "    # Calcula la  mutual information\n",
    "    mi_values = mutual_info_classif(df[categorical_columns], df[target_col])\n",
    "    \n",
    "    # Normalizar mutual information si es necesario\n",
    "    if normalize:\n",
    "        total_mi = sum(mi_values)\n",
    "        if total_mi == 0:\n",
    "            print(\"Error: No se puede normalizar la mutual information porque la suma de valores es cero.\")\n",
    "            return None\n",
    "        \n",
    "        mi_values = mi_values / total_mi\n",
    "    \n",
    "    # Seleccionar columnas cuya mutual information cumple con el umbral\n",
    "    selected_columns = [categorical_columns[i] for i, mi_value in enumerate(mi_values) if mi_value >= mi_threshold]\n",
    "    \n",
    "    return selected_columns\n"
   ]
  },
  {
   "cell_type": "code",
   "execution_count": 7,
   "metadata": {},
   "outputs": [],
   "source": [
    "selected_columns = ['sex', 'who', 'alive']"
   ]
  },
  {
   "cell_type": "code",
   "execution_count": 10,
   "metadata": {},
   "outputs": [
    {
     "name": "stdout",
     "output_type": "stream",
     "text": [
      "Columnas seleccionadas: ['sex', 'who', 'alive']\n"
     ]
    }
   ],
   "source": [
    "#muestra de como usar la función\n",
    "selected_columns = get_features_cat_classification(df, target_col, normalize=False, mi_threshold=0.1)\n",
    "\n",
    "# Imprimir las columnas seleccionadas\n",
    "print(\"Columnas seleccionadas:\", selected_columns)"
   ]
  },
  {
   "cell_type": "code",
   "execution_count": 11,
   "metadata": {},
   "outputs": [],
   "source": [
    "\n",
    "def plot_features_cat_classification(df, target_col=\"\", columns=[], mi_threshold=0.0, normalize=False):\n",
    "    \"\"\"\n",
    "   Visualiza la distribución de las etiquetas de las columnas categóricas en relación con la columna objetivo.\n",
    "\n",
    "    Argumentos:\n",
    "    - df (DataFrame): DataFrame de entrada.\n",
    "    - target_col (str): Nombre de la columna que se considerará como target para la selección. Por defecto, \"\".\n",
    "    - columns (list): Lista de columnas a considerar. Por defecto, [].\n",
    "    - mi_threshold (float): Umbral de mutual information para la selección. Por defecto, 0.0.\n",
    "    - normalize (bool): Indica si se debe normalizar la mutual information. Por defecto, False.\n",
    "\n",
    "    Devuelve:\n",
    "    None\n",
    "\n",
    "    \"\"\"\n",
    "    # Comprobar que 'target_col' es una variable categórica del dataframe\n",
    "    if target_col not in df.columns or df[target_col].dtype.name not in ['object', 'category']:\n",
    "        print(f\"Error: '{target_col}' no es una variable categórica en el dataframe.\")\n",
    "        return None\n",
    "    \n",
    "    # Si la lista de columnas está vacía, seleccionar todas las variables categóricas del dataframe\n",
    "    if not columns:\n",
    "        columns = df.select_dtypes(include=['object', 'category']).columns\n",
    "    \n",
    "    # Seleccionar columnas que cumplen con el umbral de mutual information\n",
    "    selected_columns = get_features_cat_classification(df, target_col, normalize, mi_threshold)\n",
    "    selected_columns = [col for col in selected_columns if col in columns]\n",
    "\n",
    "    # Comprobar si no se seleccionaron columnas\n",
    "    if not selected_columns:\n",
    "        print(\"No se seleccionaron columnas que cumplieran con los criterios especificados.\")\n",
    "        return None\n",
    "    \n",
    "    # Pintar la distribución de etiquetas para cada columna seleccionada\n",
    "    for col in selected_columns:\n",
    "        plt.figure(figsize=(10, 6))\n",
    "        sns.countplot(x=col, hue=target_col, data=df)\n",
    "        plt.title(f'Distribución de {col} respecto a {target_col}')\n",
    "        plt.show()\n"
   ]
  },
  {
   "cell_type": "code",
   "execution_count": 12,
   "metadata": {},
   "outputs": [
    {
     "data": {
      "image/png": "[encoded data removed]",
      "text/plain": [
       "<Figure size 1000x600 with 1 Axes>"
      ]
     },
     "metadata": {},
     "output_type": "display_data"
    },
    {
     "data": {
      "image/png": "[encoded data removed]",
      "text/plain": [
       "<Figure size 1000x600 with 1 Axes>"
      ]
     },
     "metadata": {},
     "output_type": "display_data"
    },
    {
     "data": {
      "image/png": "[encoded data removed]",
      "text/plain": [
       "<Figure size 1000x600 with 1 Axes>"
      ]
     },
     "metadata": {},
     "output_type": "display_data"
    }
   ],
   "source": [
    "#muestra de como usar la función\n",
    "\n",
    "plot_features_cat_classification(df_t, target_col, selected_columns, mi_threshold=0.1, normalize=False)"
   ]
  },
  {
   "cell_type": "code",
   "execution_count": null,
   "metadata": {},
   "outputs": [],
   "source": []
  },
  {
   "cell_type": "code",
   "execution_count": null,
   "metadata": {},
   "outputs": [],
   "source": []
  },
  {
   "cell_type": "code",
   "execution_count": null,
   "metadata": {},
   "outputs": [],
   "source": []
  }
 ],
 "metadata": {
  "kernelspec": {
   "display_name": "Python 3",
   "language": "python",
   "name": "python3"
  },
  "language_info": {
   "codemirror_mode": {
    "name": "ipython",
    "version": 3
   },
   "file_extension": ".py",
   "mimetype": "text/x-python",
   "name": "python",
   "nbconvert_exporter": "python",
   "pygments_lexer": "ipython3",
   "version": "3.10.11"
  }
 },
 "nbformat": 4,
 "nbformat_minor": 2
}
