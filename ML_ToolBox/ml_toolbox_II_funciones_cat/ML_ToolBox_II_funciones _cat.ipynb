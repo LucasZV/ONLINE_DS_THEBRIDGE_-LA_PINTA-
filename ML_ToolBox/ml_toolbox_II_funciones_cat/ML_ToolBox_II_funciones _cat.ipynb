{
 "cells": [
  {
   "cell_type": "code",
   "execution_count": 1,
   "metadata": {},
   "outputs": [],
   "source": [
    "import pandas as pd\n",
    "from sklearn.feature_selection import mutual_info_classif\n",
    "from sklearn.preprocessing import LabelEncoder\n",
    "import matplotlib.pyplot as plt\n",
    "import numpy as np\n",
    "import seaborn as sns"
   ]
  },
  {
   "cell_type": "code",
   "execution_count": 2,
   "metadata": {},
   "outputs": [],
   "source": [
    "df_t = pd.read_csv(\"./data/titanic.csv\")"
   ]
  },
  {
   "cell_type": "code",
   "execution_count": 3,
   "metadata": {},
   "outputs": [],
   "source": [
    "\n",
    "\n",
    "def get_features_cat_classification(df, target_col, normalize=False, mi_threshold=0):\n",
    "    \"\"\"\n",
    "    La función get_features_cat_classification realiza una selección de las columnas categóricas de un dataframe en base a su mutual information con respecto a la columna objetivo,\n",
    "    siguiendo criterios predefinidos.\n",
    "\n",
    "    Argumentos:\n",
    "    - df (pd.DataFrame): DataFrame de entrada.\n",
    "    - target_col (str): Nombre de la columna que se considerará como target para la selección.\n",
    "    - normalize (bool): Indica si se debe normalizar la mutual information. Por defecto, False.\n",
    "    - mi_threshold (float): Umbral de mutual information para la selección. Por defecto, 0.\n",
    "\n",
    "    Devuelve una lista con las columnas categóricas seleccionadas.\n",
    "\n",
    "    \"\"\"\n",
    "\n",
    "    # Comprobar que 'target_col' es una variable categórica del dataframe\n",
    "    if target_col not in df.columns or df[target_col].dtype.name not in ['object', 'category']:\n",
    "        print(f\"Error: '{target_col}' no es una variable categórica en el dataframe.\")\n",
    "        return None\n",
    "    \n",
    "    # Obtener las columnas categóricas\n",
    "    categorical_columns = df.select_dtypes(include=['object', 'category']).columns\n",
    "    \n",
    "    # Verificar que 'mi_threshold' sea un valor float entre 0 y 1 si 'normalize' es True\n",
    "    if normalize and not (isinstance(mi_threshold, float) and 0 <= mi_threshold <= 1):\n",
    "        print(\"Error: 'mi_threshold' debe ser un valor float entre 0 y 1 cuando normalize es True.\")\n",
    "        return None\n",
    "    \n",
    "    # Convertir las columnas categóricas a valores numéricos\n",
    "    label_encoder = LabelEncoder()\n",
    "    for col in categorical_columns:\n",
    "        df[col] = label_encoder.fit_transform(df[col])\n",
    "    \n",
    "    # Calcular mutual information\n",
    "    mi_values = mutual_info_classif(df[categorical_columns], df[target_col])\n",
    "    \n",
    "    # Normalizar mutual information si es necesario\n",
    "    if normalize:\n",
    "        total_mi = sum(mi_values)\n",
    "        if total_mi == 0:\n",
    "            print(\"Error: No se puede normalizar la mutual information porque la suma de valores es cero.\")\n",
    "            return None\n",
    "        \n",
    "        mi_values = mi_values / total_mi\n",
    "    \n",
    "    # Seleccionar columnas cuya mutual information cumple con el umbral\n",
    "    selected_columns = [categorical_columns[i] for i, mi_value in enumerate(mi_values) if mi_value >= mi_threshold]\n",
    "    \n",
    "    return selected_columns\n"
   ]
  },
  {
   "cell_type": "code",
   "execution_count": 4,
   "metadata": {},
   "outputs": [
    {
     "ename": "NameError",
     "evalue": "name 'df1' is not defined",
     "output_type": "error",
     "traceback": [
      "\u001b[1;31m---------------------------------------------------------------------------\u001b[0m",
      "\u001b[1;31mNameError\u001b[0m                                 Traceback (most recent call last)",
      "Cell \u001b[1;32mIn[4], line 2\u001b[0m\n\u001b[0;32m      1\u001b[0m \u001b[38;5;66;03m#muestra de como usar la función\u001b[39;00m\n\u001b[1;32m----> 2\u001b[0m selected_columns \u001b[38;5;241m=\u001b[39m get_features_cat_classification(\u001b[43mdf1\u001b[49m, target_col\u001b[38;5;241m=\u001b[39mtarget_column, normalize\u001b[38;5;241m=\u001b[39m\u001b[38;5;28;01mFalse\u001b[39;00m, mi_threshold\u001b[38;5;241m=\u001b[39m\u001b[38;5;241m0.1\u001b[39m)\n\u001b[0;32m      4\u001b[0m \u001b[38;5;66;03m# Imprimir las columnas seleccionadas\u001b[39;00m\n\u001b[0;32m      5\u001b[0m \u001b[38;5;28mprint\u001b[39m(\u001b[38;5;124m\"\u001b[39m\u001b[38;5;124mColumnas seleccionadas:\u001b[39m\u001b[38;5;124m\"\u001b[39m, selected_columns)\n",
      "\u001b[1;31mNameError\u001b[0m: name 'df1' is not defined"
     ]
    }
   ],
   "source": [
    "#muestra de como usar la función\n",
    "selected_columns = get_features_cat_classification(df1, target_col=target_column, normalize=False, mi_threshold=0.1)\n",
    "\n",
    "# Imprimir las columnas seleccionadas\n",
    "print(\"Columnas seleccionadas:\", selected_columns)"
   ]
  },
  {
   "cell_type": "code",
   "execution_count": null,
   "metadata": {},
   "outputs": [],
   "source": [
    "\n",
    "def plot_features_cat_classification(df, target_col=\"\", columns=[], mi_threshold=0.0, normalize=False):\n",
    "    \"\"\"\n",
    "   Visualiza la distribución de las etiquetas de las columnas categóricas en relación con la columna objetivo, aplicando ciertos criterios de selección.\n",
    "\n",
    "    Argumentos:\n",
    "    - df (pd.DataFrame): DataFrame de entrada.\n",
    "    - target_col (str): Nombre de la columna que se considerará como target para la selección. Por defecto, \"\".\n",
    "    - columns (list): Lista de columnas a considerar. Por defecto, [].\n",
    "    - mi_threshold (float): Umbral de mutual information para la selección. Por defecto, 0.0.\n",
    "    - normalize (bool): Indica si se debe normalizar la mutual information. Por defecto, False.\n",
    "\n",
    "    Devuelve:\n",
    "    None\n",
    "\n",
    "    \"\"\"\n",
    "    # Comprobar que 'target_col' es una variable categórica del dataframe\n",
    "    if target_col not in df.columns or df[target_col].dtype.name not in ['object', 'category']:\n",
    "        print(f\"Error: '{target_col}' no es una variable categórica en el dataframe.\")\n",
    "        return None\n",
    "    \n",
    "    # Si la lista de columnas está vacía, seleccionar todas las variables categóricas del dataframe\n",
    "    if not columns:\n",
    "        columns = df.select_dtypes(include=['object', 'category']).columns\n",
    "    \n",
    "    # Seleccionar columnas que cumplen con el umbral de mutual information\n",
    "    selected_columns = select_categorical_features(df, target_col, normalize, mi_threshold)\n",
    "    selected_columns = [col for col in selected_columns if col in columns]\n",
    "\n",
    "    # Comprobar si no se seleccionaron columnas\n",
    "    if not selected_columns:\n",
    "        print(\"No se seleccionaron columnas que cumplieran con los criterios especificados.\")\n",
    "        return None\n",
    "    \n",
    "    # Pintar la distribución de etiquetas para cada columna seleccionada\n",
    "    for col in selected_columns:\n",
    "        plt.figure(figsize=(10, 6))\n",
    "        sns.countplot(x=col, hue=target_col, data=df)\n",
    "        plt.title(f'Distribución de {col} respecto a {target_col}')\n",
    "        plt.show()\n"
   ]
  },
  {
   "cell_type": "code",
   "execution_count": null,
   "metadata": {},
   "outputs": [
    {
     "name": "stdout",
     "output_type": "stream",
     "text": [
      "Error: 'y' no es una variable categórica en el dataframe.\n"
     ]
    }
   ],
   "source": [
    "#muestra de como usar la función\n",
    "\n",
    "plot_features_cat_classification(df1, target_col=target_column, columns=['marital', 'education', 'housing'], mi_threshold=0.1, normalize=False)"
   ]
  },
  {
   "cell_type": "code",
   "execution_count": null,
   "metadata": {},
   "outputs": [],
   "source": []
  },
  {
   "cell_type": "code",
   "execution_count": null,
   "metadata": {},
   "outputs": [],
   "source": []
  },
  {
   "cell_type": "code",
   "execution_count": null,
   "metadata": {},
   "outputs": [],
   "source": []
  }
 ],
 "metadata": {
  "kernelspec": {
   "display_name": "Python 3",
   "language": "python",
   "name": "python3"
  },
  "language_info": {
   "codemirror_mode": {
    "name": "ipython",
    "version": 3
   },
   "file_extension": ".py",
   "mimetype": "text/x-python",
   "name": "python",
   "nbconvert_exporter": "python",
   "pygments_lexer": "ipython3",
   "version": "3.10.11"
  }
 },
 "nbformat": 4,
 "nbformat_minor": 2
}
