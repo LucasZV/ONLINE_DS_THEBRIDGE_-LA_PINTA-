{
 "cells": [
  {
   "cell_type": "code",
   "execution_count": null,
   "metadata": {},
   "outputs": [],
   "source": [
    "import matplotlib.pyplot as plt\n",
    "import numpy as np\n",
    "import pandas as pd\n",
    "import seaborn as sns\n",
    "from scipy.stats import pearsonr\n",
    "%matplotlib inline\n"
   ]
  },
  {
   "cell_type": "markdown",
   "metadata": {},
   "source": [
    "### Funcion: get_features_num_regression\n",
    "\n",
    "Esta función recibe como argumentos un dataframe, el nombre de una de las columnas del mismo (argumento 'target_col'), que debería ser el target de un hipotético modelo de regresión, es decir debe ser una variable numérica continua o discreta pero con alta cardinalidad, además de un argumento 'umbral_corr', de tipo float que debe estar entre 0 y 1 y una variable float \"pvalue\" cuyo valor debe ser por defecto \"None\".\n",
    "\n",
    "La función debe devolver una lista con las columnas numéricas del dataframe cuya correlación con la columna designada por \"target_col\" sea superior en valor absoluto al valor dado por \"umbral_corr\". Además si la variable \"pvalue\" es distinta de None, sólo devolvera las columnas numéricas cuya correlación supere el valor indicado y además supere el test de hipótesis con significación mayor o igual a 1-pvalue.\n",
    "\n",
    "La función debe hacer todas las comprobaciones necesarias para no dar error como consecuecia de los valores de entrada. Es decir hará un check de los valores asignados a los argumentos de entrada y si estos no son adecuados debe retornar None y printar por pantalla la razón de este comportamiento. Ojo entre las comprobaciones debe estar que \"target_col\" hace referencia a una variable numérica continua del dataframe."
   ]
  },
  {
   "cell_type": "code",
   "execution_count": 8,
   "metadata": {},
   "outputs": [],
   "source": [
    "def get_features_num_reggresion(df,target_col, umbral_corr,pvalue=None):\n",
    "    if target_col not in df.columns:\n",
    "        print(f\"Error: la columna¨{target_col} no existe.\") #comprobar que target col no existe\n",
    "        return None\n",
    "    \n",
    "    if not np.issubdtype(df[target_col].dtype, np.number):\n",
    "        print(f\"Error: La columna '{target_col}' no es una variable numérica continua.\") # Comprobar que target_col es una variable numérica continua\n",
    "        return None\n",
    "    \n",
    "\n",
    "    if not (0 <= umbral_corr <=1): #comprueba que el umbral de correlación está entre 0 y 1\n",
    "        print(f\"Error: umbral_corr debe estar entre 0 y 1\")\n",
    "        return None \n",
    "    \n",
    "    if pvalue is not None and not (0 <= pvalue <= 1):\n",
    "        print(\"Error: pvalue debe ser None o un número entre 0 y 1.\")\n",
    "        return None\n",
    "    \n",
    "    numeric_cols = df.select_dtypes(include=np.number).columns.tolist()#obtener columnas numéricas del df\n",
    "\n",
    "    Correlations = []\n",
    "    for col in numeric_cols: # Calcular la correlación y p-values para cada columna numérica con 'target_col'\n",
    "        if col != target_col:\n",
    "            correlation, pvalue = pearsonr(df[col], df[target_col])\n",
    "            correlations.append((col, correlation, p_value))\n",
    "\n",
    "    Selected_features = [] # Filtrar las columnas basadas en el umbral de correlación y p-value (si proporcionado)\n",
    "    for col, correlation, p_value in correlations:\n",
    "        if abs(correlation) > umbral_corr and(pvalue is None | p_vlue <= (1- pvalue)):\n",
    "         Selected_features.append(col)\n",
    "    return(selected_features)\n",
    "\n"
   ]
  },
  {
   "cell_type": "code",
   "execution_count": null,
   "metadata": {},
   "outputs": [],
   "source": [
    "# uso:\n",
    "# features = get_features_num_regression(df, 'target_column', 0.5, pvalue=0.05)\n",
    "# print"
   ]
  },
  {
   "cell_type": "code",
   "execution_count": null,
   "metadata": {},
   "outputs": [],
   "source": []
  },
  {
   "cell_type": "code",
   "execution_count": null,
   "metadata": {},
   "outputs": [],
   "source": []
  },
  {
   "cell_type": "code",
   "execution_count": null,
   "metadata": {},
   "outputs": [],
   "source": []
  },
  {
   "cell_type": "code",
   "execution_count": null,
   "metadata": {},
   "outputs": [],
   "source": []
  },
  {
   "cell_type": "code",
   "execution_count": null,
   "metadata": {},
   "outputs": [],
   "source": []
  },
  {
   "cell_type": "code",
   "execution_count": null,
   "metadata": {},
   "outputs": [],
   "source": []
  },
  {
   "cell_type": "code",
   "execution_count": null,
   "metadata": {},
   "outputs": [],
   "source": []
  },
  {
   "cell_type": "code",
   "execution_count": null,
   "metadata": {},
   "outputs": [],
   "source": []
  },
  {
   "cell_type": "code",
   "execution_count": null,
   "metadata": {},
   "outputs": [],
   "source": []
  },
  {
   "cell_type": "code",
   "execution_count": null,
   "metadata": {},
   "outputs": [],
   "source": []
  },
  {
   "cell_type": "code",
   "execution_count": null,
   "metadata": {},
   "outputs": [],
   "source": []
  },
  {
   "cell_type": "code",
   "execution_count": null,
   "metadata": {},
   "outputs": [],
   "source": []
  },
  {
   "cell_type": "code",
   "execution_count": null,
   "metadata": {},
   "outputs": [],
   "source": []
  },
  {
   "cell_type": "code",
   "execution_count": null,
   "metadata": {},
   "outputs": [],
   "source": []
  },
  {
   "cell_type": "code",
   "execution_count": null,
   "metadata": {},
   "outputs": [],
   "source": []
  },
  {
   "cell_type": "code",
   "execution_count": null,
   "metadata": {},
   "outputs": [],
   "source": []
  },
  {
   "cell_type": "code",
   "execution_count": null,
   "metadata": {},
   "outputs": [],
   "source": []
  },
  {
   "cell_type": "code",
   "execution_count": null,
   "metadata": {},
   "outputs": [],
   "source": []
  },
  {
   "cell_type": "code",
   "execution_count": null,
   "metadata": {},
   "outputs": [],
   "source": []
  },
  {
   "cell_type": "code",
   "execution_count": null,
   "metadata": {},
   "outputs": [],
   "source": []
  }
 ],
 "metadata": {
  "kernelspec": {
   "display_name": "Python 3",
   "language": "python",
   "name": "python3"
  },
  "language_info": {
   "codemirror_mode": {
    "name": "ipython",
    "version": 3
   },
   "file_extension": ".py",
   "mimetype": "text/x-python",
   "name": "python",
   "nbconvert_exporter": "python",
   "pygments_lexer": "ipython3",
   "version": "3.10.11"
  }
 },
 "nbformat": 4,
 "nbformat_minor": 2
}
