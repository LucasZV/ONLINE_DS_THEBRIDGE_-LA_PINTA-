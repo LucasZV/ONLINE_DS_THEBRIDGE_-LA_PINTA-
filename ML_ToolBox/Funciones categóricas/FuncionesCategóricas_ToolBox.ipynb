{
 "cells": [
  {
   "cell_type": "code",
   "execution_count": 3,
   "metadata": {},
   "outputs": [],
   "source": [
    "import pandas as pd\n",
    "import seaborn as sns\n",
    "from scipy.stats import pearsonr,chi2_contingency"
   ]
  },
  {
   "cell_type": "markdown",
   "metadata": {},
   "source": [
    "# Funcion: get_features_cat_regression\n",
    "Esta función recibe como argumentos un dataframe, el nombre de una de las columnas del mismo (argumento 'target_col'), que debería ser el target de un hipotético modelo de regresión, es decir debe ser una variable numérica continua o discreta pero con alta cardinalidad y una variable float \"pvalue\" cuyo valor por defecto será 0.05.\n",
    "\n",
    "La función debe devolver una lista con las columnas categóricas del dataframe cuyo test de relación con la columna designada por 'target_col' supere en confianza estadística el test de relación que sea necesario hacer (es decir la función debe poder escoger cuál de los dos test que hemos aprendido tiene que hacer).\n",
    "\n",
    "La función debe hacer todas las comprobaciones necesarias para no dar error como consecuecia de los valores de entrada. Es decir hará un check de los valores asignados a los argumentos de entrada y si estos no son adecuados debe retornar None y printar por pantalla la razón de este comportamiento. Ojo entre las comprobaciones debe estar que \"target_col\" hace referencia a una variable numérica continua del dataframe."
   ]
  },
  {
   "cell_type": "code",
   "execution_count": 2,
   "metadata": {},
   "outputs": [],
   "source": [
    "def get_features_cat_regression(df,target_col,pvalue=0.05):\n",
    "    \"\"\"\n",
    "    Descripción:\n",
    "        La función identifica las variables categóricas de un dataframe que se consideran features de una variable target en función de su correlación.\n",
    "\n",
    "    Argumentos:\n",
    "        df (Pandas Dataframe) : El DataFrame sobre el que trabajar.\n",
    "        target_col: varible objetivo (numérica continua o discreta) del df.\n",
    "        pvalue: valor que restado a 1 nos indica el intervalo de confianza para la identificación de features (cómo correlan con la vasriable target) \n",
    "\n",
    "    Returns:\n",
    "        cat_features: lista de las variables categóricas que han sido identificadas como features.\n",
    "    \"\"\"\n",
    "    umbral_card=0.5\n",
    "    if target_col not in df.columns:\n",
    "        print(f\"Error: la columna {target_col} no existe.\")\n",
    "        return None\n",
    "    if (target_col.dtype() not in [int,float]) or (df.nunique()/len(df)*100<umbral_card):\n",
    "        print(f\"Error: la columna {target_col} no es numérica y/o su cardinalidad es inferior a {umbral_card}.\")\n",
    "        return None\n",
    "    if pvalue.dtype() != float:\n",
    "        print(f\"Error: la variable {pvalue} no es float.\")\n",
    "        return None\n",
    "    categorical_cols = df.select_dtypes(include='object').columns.tolist()\n",
    "    cat_features = []\n",
    "    for col in categorical_cols: # Calcular la correlación y p-values para cada columna numérica con 'target_col'\n",
    "        contingency_table = pd.crosstab(df[col], df[target_col])\n",
    "        _, p_value, _, _ = chi2_contingency(contingency_table)\n",
    "        if p_value < pvalue:\n",
    "            cat_features.append(col)\n",
    "    return(cat_features)"
   ]
  },
  {
   "cell_type": "markdown",
   "metadata": {},
   "source": [
    "# Funcion: plot_features_cat_regression\n",
    "Esta función recibe un dataframe, una argumento \"target_col\" con valor por defecto \"\", una lista de strings (\"columns\") cuyo valor por defecto es la lista vacía, un argumento (\"pvalue\") con valor 0.05 por defecto y un argumento \"with_individual_plot\" a False.\n",
    "\n",
    "Si la lista no está vacía, la función pintará los histogramas agrupados de la variable \"target_col\" para cada uno de los valores de las variables categóricas incluidas en columns que cumplan que su test de relación con \"target_col\" es significatio para el nivel 1-pvalue de significación estadística. La función devolverá los valores de \"columns\" que cumplan con las condiciones anteriores.\n",
    "\n",
    "Si la lista está vacía, entonces la función igualará \"columns\" a las variables numéricas del dataframe y se comportará como se describe en el párrafo anterior.\n",
    "\n",
    "De igual manera que en la función descrita anteriormente deberá hacer un check de los valores de entrada y comportarse como se describe en el último párrafo de la función get_features_cat_regression."
   ]
  },
  {
   "cell_type": "code",
   "execution_count": null,
   "metadata": {},
   "outputs": [],
   "source": [
    "def plot_features_cat_regression(df,target_col=\"\",columns=[],pvalue=0.05,with_indivudual_plot=False):\n",
    "    \"\"\"\n",
    "    Descripción:\n",
    "        La función dibuja los histogramas de la variable objetivo para cada una de las features.\n",
    "\n",
    "    Argumentos:\n",
    "        df: El DataFrame sobre el que trabajar.\n",
    "        target_col: varible objetivo (numérica continua o discreta) del df.\n",
    "        columns: listado de variables categóricas. Por defecto está vacío.\n",
    "        pvalue: valor que restado a 1 nos indica el intervalo de confianza para la identificación de features (cómo correlan con la variable target). Por defecto 0.05.\n",
    "        with_individual_plot: argumento para dibujar el histograma individual o agrupado (por defecto).\n",
    "\n",
    "    Returns:\n",
    "        figure: histogramas\n",
    "    \"\"\"\n",
    "    # Comprobación de los valores de entrada:\n",
    "    # variable objetivo incluída en el df (columna)\n",
    "    if target_col not in df.columns:\n",
    "        print(f\"Error: la columna {target_col} no existe.\")\n",
    "        return None\n",
    "    # variable objetivo numérica y con alta cardinalidad (superior al umbral deseado)\n",
    "    if (target_col.dtype() not in [int,float]) or (df.nunique()/len(df)*100<umbral_card):\n",
    "        print(f\"Error: la columna {target_col} no es numérica y/o su cardinalidad es inferior a {umbral_card}.\")\n",
    "        return None\n",
    "    # argumento pvalue decimal\n",
    "    if pvalue.dtype() != float:\n",
    "        print(f\"Error: la variable {pvalue} no es float.\")\n",
    "        return None\n",
    "    \n",
    "    # Una vez comprobados los valores de entrada, revisamos el listado de columnas:\n",
    "    # Si es una lista vacía (por defecto), se cogen las features numéricas del df y se dibujan los histogamas para la variable objetivo y cada feature numérica.\n",
    "    if columns==[]:\n",
    "        columns=selected_features\n",
    "        for feature in selected_features:\n",
    "            plt.figure(figsize=(10, 6))\n",
    "            sns.histplot(data=df, x=target_col, hue=feature, bins=20, multiple=\"stack\")\n",
    "            plt.xlabel(target_col)\n",
    "            plt.ylabel('Frecuencia')\n",
    "            plt.title(f'Histogramas agrupados de {target_col} para features en {feature}')\n",
    "            plt.show()\n",
    "     # Si la lista viene informada, se comprueba que sean features categóricas del df y se dibujan los histogamas para la variable objetivo y cada feature categórica.\n",
    "    else:\n",
    "        cat_features_hist=[]\n",
    "        for col in columns:\n",
    "            if col in cat_features\n",
    "                cat_features_hist.append(col)\n",
    "        for feature in cat_features_hist:\n",
    "            plt.figure(figsize=(10, 6))\n",
    "            sns.countplot(data=df, x=feature, hue=target_col)\n",
    "            plt.xlabel(feature)\n",
    "            plt.ylabel('Conteo')\n",
    "            plt.title(f'Gráfico de barras agrupado para {target_col} en función de {feature}')\n",
    "            plt.legend(title=target_col)\n",
    "            plt.show()\n",
    "\n",
    "\n",
    "        \n"
   ]
  }
 ],
 "metadata": {
  "kernelspec": {
   "display_name": "Python 3",
   "language": "python",
   "name": "python3"
  },
  "language_info": {
   "codemirror_mode": {
    "name": "ipython",
    "version": 3
   },
   "file_extension": ".py",
   "mimetype": "text/x-python",
   "name": "python",
   "nbconvert_exporter": "python",
   "pygments_lexer": "ipython3",
   "version": "3.12.0"
  }
 },
 "nbformat": 4,
 "nbformat_minor": 2
}
