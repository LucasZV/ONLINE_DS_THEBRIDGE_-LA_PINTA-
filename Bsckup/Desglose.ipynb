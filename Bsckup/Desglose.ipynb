{
 "cells": [
  {
   "cell_type": "markdown",
   "id": "b2e139c3-4938-4657-a668-1f52b799b343",
   "metadata": {},
   "source": [
    "**Hay que hacer:**\n",
    "+ Constantes\n",
    "+ id jugador\n",
    "+ Diccionario barcos (objeto clase)\n",
    "+ Clase tablero\n",
    "+ Clase barco\n",
    "+ EL PROGRAMA"
   ]
  },
  {
   "cell_type": "markdown",
   "id": "034e5003-4c78-4043-a3dc-6cf4c35098a7",
   "metadata": {},
   "source": [
    "**Hay hecho:**\n",
    "+ Tablero\n",
    "+ dimensión tablero\n",
    "+ Variables Barcos\n",
    "+ Tablero\n",
    "+ Funciones"
   ]
  },
  {
   "cell_type": "code",
   "execution_count": null,
   "id": "acdbf783-d4d7-4f5c-b003-96b0eaea6350",
   "metadata": {},
   "outputs": [],
   "source": []
  }
 ],
 "metadata": {
  "kernelspec": {
   "display_name": "Python 3 (ipykernel)",
   "language": "python",
   "name": "python3"
  },
  "language_info": {
   "codemirror_mode": {
    "name": "ipython",
    "version": 3
   },
   "file_extension": ".py",
   "mimetype": "text/x-python",
   "name": "python",
   "nbconvert_exporter": "python",
   "pygments_lexer": "ipython3",
   "version": "3.10.11"
  }
 },
 "nbformat": 4,
 "nbformat_minor": 5
}
